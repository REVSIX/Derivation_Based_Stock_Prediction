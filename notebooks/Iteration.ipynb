{
 "cells": [
  {
   "cell_type": "code",
   "execution_count": null,
   "id": "initial_id",
   "metadata": {
    "collapsed": true
   },
   "outputs": [],
   "source": [
    "import numpy as np\n",
    "import matplotlib.pyplot as plt\n",
    "from sklearn.preprocessing import PolynomialFeatures\n",
    "from sklearn.linear_model import LinearRegression"
   ]
  },
  {
   "cell_type": "markdown",
   "source": [
    "Verified"
   ],
   "metadata": {
    "collapsed": false
   },
   "id": "95a81ff22c7a8fba"
  },
  {
   "cell_type": "code",
   "outputs": [],
   "source": [
    "import requests\n",
    "import pandas as pd\n",
    "import time\n",
    "import os\n",
    "from dotenv import load_dotenv\n",
    "\n",
    "# Load environment variables\n",
    "load_dotenv()\n",
    "\n",
    "# Parameters\n",
    "window_size = 50  # Number of most recent prices to keep in the window\n",
    "interval = 60  # Fetch new price every 60 seconds\n",
    "api_key = os.getenv(\"API_KEY\")  # Finnhub API key\n",
    "\n",
    "def fetch_latest_price(ticker):\n",
    "    \"\"\"Fetch the latest stock price from Finnhub API.\"\"\"\n",
    "    url = f\"https://finnhub.io/api/v1/quote?symbol={ticker}&token={api_key}\"\n",
    "    try:\n",
    "        response = requests.get(url)\n",
    "        response.raise_for_status()  # Raises an HTTPError for bad responses\n",
    "        data = response.json()\n",
    "        \n",
    "        if 'c' in data:\n",
    "            latest_price = data['c']  # Current price\n",
    "            return time.strftime('%Y-%m-%d %H:%M:%S'), latest_price\n",
    "        else:\n",
    "            print(f\"Error fetching data for {ticker}: {data.get('error', 'Unknown error')}\")\n",
    "            return None, None\n",
    "    except requests.RequestException as e:\n",
    "        print(f\"Failed to get ticker '{ticker}' due to: {e}\")\n",
    "        return None, None\n",
    "\n",
    "def get_valid_ticker():\n",
    "    \"\"\"Ask the user for a valid ticker until one is provided.\"\"\"\n",
    "    while True:\n",
    "        ticker = input(\"Please enter a valid stock ticker: \").upper()\n",
    "        timestamp, price = fetch_latest_price(ticker)\n",
    "        if price is not None:\n",
    "            print(f\"Valid ticker '{ticker}' provided.\")\n",
    "            return ticker\n",
    "        else:\n",
    "            print(f\"'{ticker}' is not a valid stock ticker or data could not be retrieved. Please try again.\")\n",
    "\n",
    "def update_csv(stock_data, csv_file, ticker):\n",
    "    \"\"\"Update the CSV file with a new row and maintain a moving window.\"\"\"\n",
    "    timestamp, price = fetch_latest_price(ticker)\n",
    "    \n",
    "    if price is not None:\n",
    "        new_data = pd.DataFrame({\"Datetime\": [timestamp], \"Price\": [price]})\n",
    "        stock_data = pd.concat([stock_data, new_data], ignore_index=True).tail(window_size)\n",
    "        stock_data.to_csv(csv_file, index=False)\n",
    "        print(f\"Updated CSV at {timestamp} with price {price}\")\n",
    "    else:\n",
    "        print(f\"Failed to fetch data for ticker {ticker}\")\n",
    "\n",
    "    return stock_data\n",
    "\n",
    "# Main script\n",
    "if __name__ == \"__main__\":\n",
    "    # Get the current working directory (notebooks)\n",
    "    current_dir = os.getcwd()\n",
    "\n",
    "    # Go up one level to the parent directory\n",
    "    parent_dir = os.path.dirname(current_dir)\n",
    "\n",
    "    # Construct the path to the stock_data directory\n",
    "    stock_data_dir = os.path.join(parent_dir, \"stock_data\")\n",
    "\n",
    "    # Create the stock_data directory if it doesn't exist\n",
    "    os.makedirs(stock_data_dir, exist_ok=True)\n",
    "\n",
    "    ticker = get_valid_ticker()\n",
    "    csv_file = os.path.join(stock_data_dir, f\"{ticker}.csv\")\n",
    "\n",
    "    # Initialize or load existing CSV file\n",
    "    try:\n",
    "        stock_data = pd.read_csv(csv_file)\n",
    "    except FileNotFoundError:\n",
    "        stock_data = pd.DataFrame(columns=[\"Datetime\", \"Price\"])\n",
    "\n",
    "    # Main loop to continuously fetch data and update the CSV\n",
    "    while True:\n",
    "        stock_data = update_csv(stock_data, csv_file, ticker)\n",
    "        time.sleep(interval)"
   ],
   "metadata": {
    "collapsed": false
   },
   "id": "8d98d45825ab06ef"
  },
  {
   "cell_type": "markdown",
   "source": [
    "Verified"
   ],
   "metadata": {
    "collapsed": false
   },
   "id": "9f8e6514f777595b"
  },
  {
   "cell_type": "code",
   "outputs": [
    {
     "name": "stdout",
     "output_type": "stream",
     "text": [
      "Valid ticker 'AAPL' provided.\n",
      "Updated CSV at 2024-10-24 23:14:28 with price 230.57\n"
     ]
    },
    {
     "name": "stderr",
     "output_type": "stream",
     "text": [
      "C:\\Users\\rauna\\AppData\\Local\\Temp\\ipykernel_34204\\2451692705.py:50: FutureWarning: The behavior of DataFrame concatenation with empty or all-NA entries is deprecated. In a future version, this will no longer exclude empty or all-NA columns when determining the result dtypes. To retain the old behavior, exclude the relevant entries before the concat operation.\n",
      "  stock_data = pd.concat([stock_data, new_data], ignore_index=True).tail(window_size)\n"
     ]
    }
   ],
   "source": [
    "import requests\n",
    "import pandas as pd\n",
    "import time\n",
    "import os\n",
    "from dotenv import load_dotenv\n",
    "from datetime import datetime, time as dt_time\n",
    "from pytz import timezone\n",
    "from pandas.tseries.holiday import USFederalHolidayCalendar\n",
    "from pandas.tseries.offsets import CustomBusinessDay\n",
    "\n",
    "# Load environment variables\n",
    "load_dotenv()\n",
    "\n",
    "# Parameters\n",
    "window_size = 50  # Number of most recent prices to keep in the window\n",
    "interval = 60  # Fetch new price every 60 seconds\n",
    "api_key = os.getenv(\"API_KEY\")  # Finnhub API key\n",
    "\n",
    "def is_trading_time():\n",
    "    now = datetime.now(timezone('US/Eastern'))\n",
    "    \n",
    "    # Check if it's a weekday\n",
    "    if now.weekday() >= 5:  # 5 = Saturday, 6 = Sunday\n",
    "        return False\n",
    "    \n",
    "    # Check if it's a holiday\n",
    "    us_holidays = CustomBusinessDay(calendar=USFederalHolidayCalendar())\n",
    "    if now.strftime('%Y-%m-%d') in us_holidays.holidays():\n",
    "        return False\n",
    "    \n",
    "    # Check if it's within market hours (9:30 AM to 4:00 PM Eastern Time)\n",
    "    market_start = dt_time(9, 30)\n",
    "    market_end = dt_time(16, 0)\n",
    "    current_time = now.time()\n",
    "    \n",
    "    return market_start <= current_time <= market_end\n",
    "\n",
    "def fetch_latest_price(ticker):\n",
    "    \"\"\"Fetch the latest stock price from Finnhub API.\"\"\"\n",
    "    url = f\"https://finnhub.io/api/v1/quote?symbol={ticker}&token={api_key}\"\n",
    "    try:\n",
    "        response = requests.get(url)\n",
    "        response.raise_for_status()  # Raises an HTTPError for bad responses\n",
    "        data = response.json()\n",
    "        \n",
    "        if 'c' in data:\n",
    "            latest_price = data['c']  # Current price\n",
    "            return time.strftime('%Y-%m-%d %H:%M:%S'), latest_price\n",
    "        else:\n",
    "            print(f\"Error fetching data for {ticker}: {data.get('error', 'Unknown error')}\")\n",
    "            return None, None\n",
    "    except requests.RequestException as e:\n",
    "        print(f\"Failed to get ticker '{ticker}' due to: {e}\")\n",
    "        return None, None\n",
    "\n",
    "def get_valid_ticker():\n",
    "    \"\"\"Ask the user for a valid ticker until one is provided.\"\"\"\n",
    "    while True:\n",
    "        ticker = input(\"Please enter a valid stock ticker: \").upper()\n",
    "        timestamp, price = fetch_latest_price(ticker)\n",
    "        if price is not None:\n",
    "            print(f\"Valid ticker '{ticker}' provided.\")\n",
    "            return ticker\n",
    "        else:\n",
    "            print(f\"'{ticker}' is not a valid stock ticker or data could not be retrieved. Please try again.\")\n",
    "\n",
    "def update_csv(stock_data, csv_file, ticker):\n",
    "    \"\"\"Update the CSV file with a new row and maintain a moving window.\"\"\"\n",
    "    if not is_trading_time():\n",
    "        print(f\"Not trading time. Skipping update at {datetime.now(timezone('US/Eastern'))}\")\n",
    "        return stock_data\n",
    "\n",
    "    timestamp, price = fetch_latest_price(ticker)\n",
    "    \n",
    "    if price is not None:\n",
    "        new_data = pd.DataFrame({\"Datetime\": [timestamp], \"Price\": [price]})\n",
    "        stock_data = pd.concat([stock_data, new_data], ignore_index=True).tail(window_size)\n",
    "        stock_data.to_csv(csv_file, index=False)\n",
    "        print(f\"Updated CSV at {timestamp} with price {price}\")\n",
    "    else:\n",
    "        print(f\"Failed to fetch data for ticker {ticker}\")\n",
    "\n",
    "    return stock_data\n",
    "\n",
    "# Main script\n",
    "if __name__ == \"__main__\":\n",
    "    # Get the current working directory (notebooks)\n",
    "    current_dir = os.getcwd()\n",
    "\n",
    "    # Go up one level to the parent directory\n",
    "    parent_dir = os.path.dirname(current_dir)\n",
    "\n",
    "    # Construct the path to the stock_data directory\n",
    "    stock_data_dir = os.path.join(parent_dir, \"stock_data\")\n",
    "\n",
    "    # Create the stock_data directory if it doesn't exist\n",
    "    os.makedirs(stock_data_dir, exist_ok=True)\n",
    "\n",
    "    ticker = get_valid_ticker()\n",
    "    csv_file = os.path.join(stock_data_dir, f\"{ticker}.csv\")\n",
    "\n",
    "    # Initialize or load existing CSV file\n",
    "    try:\n",
    "        stock_data = pd.read_csv(csv_file)\n",
    "    except FileNotFoundError:\n",
    "        stock_data = pd.DataFrame(columns=[\"Datetime\", \"Price\"])\n",
    "\n",
    "    # Main loop to continuously fetch data and update the CSV\n",
    "    while True:\n",
    "        stock_data = update_csv(stock_data, csv_file, ticker)\n",
    "        time.sleep(interval)"
   ],
   "metadata": {
    "collapsed": false,
    "ExecuteTime": {
     "start_time": "2024-10-25T03:14:24.554397Z"
    }
   },
   "id": "e98ea6bf861dbf0e",
   "execution_count": null
  },
  {
   "cell_type": "markdown",
   "source": [
    "Untested"
   ],
   "metadata": {
    "collapsed": false
   },
   "id": "7057d81567175c05"
  },
  {
   "cell_type": "code",
   "outputs": [],
   "source": [
    "# Regression, Derivation, Math + Notification Systems"
   ],
   "metadata": {
    "collapsed": false
   },
   "id": "b6db48052a556aa0"
  },
  {
   "cell_type": "markdown",
   "source": [
    "Undeveloped"
   ],
   "metadata": {
    "collapsed": false
   },
   "id": "719f9287cfd4d812"
  }
 ],
 "metadata": {
  "kernelspec": {
   "display_name": "Python 3",
   "language": "python",
   "name": "python3"
  },
  "language_info": {
   "codemirror_mode": {
    "name": "ipython",
    "version": 2
   },
   "file_extension": ".py",
   "mimetype": "text/x-python",
   "name": "python",
   "nbconvert_exporter": "python",
   "pygments_lexer": "ipython2",
   "version": "2.7.6"
  }
 },
 "nbformat": 4,
 "nbformat_minor": 5
}
